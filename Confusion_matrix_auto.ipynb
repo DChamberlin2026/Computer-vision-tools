{
 "cells": [
  {
   "cell_type": "code",
   "execution_count": null,
   "id": "650ed790",
   "metadata": {},
   "outputs": [
    {
     "ename": "ModuleNotFoundError",
     "evalue": "No module named 'google.colab'",
     "output_type": "error",
     "traceback": [
      "\u001b[1;31m---------------------------------------------------------------------------\u001b[0m",
      "\u001b[1;31mModuleNotFoundError\u001b[0m                       Traceback (most recent call last)",
      "Cell \u001b[1;32mIn[1], line 2\u001b[0m\n\u001b[0;32m      1\u001b[0m \u001b[38;5;66;03m# Mount Google Drive (for Colab)\u001b[39;00m\n\u001b[1;32m----> 2\u001b[0m \u001b[38;5;28;01mfrom\u001b[39;00m \u001b[38;5;21;01mgoogle\u001b[39;00m\u001b[38;5;21;01m.\u001b[39;00m\u001b[38;5;21;01mcolab\u001b[39;00m \u001b[38;5;28;01mimport\u001b[39;00m drive\n\u001b[0;32m      3\u001b[0m drive\u001b[38;5;241m.\u001b[39mmount(\u001b[38;5;124m'\u001b[39m\u001b[38;5;124m/content/drive\u001b[39m\u001b[38;5;124m'\u001b[39m, force_remount\u001b[38;5;241m=\u001b[39m\u001b[38;5;28;01mTrue\u001b[39;00m)\n\u001b[0;32m      5\u001b[0m get_ipython()\u001b[38;5;241m.\u001b[39mrun_line_magic(\u001b[38;5;124m'\u001b[39m\u001b[38;5;124mpip\u001b[39m\u001b[38;5;124m'\u001b[39m, \u001b[38;5;124m'\u001b[39m\u001b[38;5;124minstall pytesseract opencv-python\u001b[39m\u001b[38;5;124m'\u001b[39m)\n",
      "\u001b[1;31mModuleNotFoundError\u001b[0m: No module named 'google.colab'"
     ]
    }
   ],
   "source": [
    "# Mount Google Drive (for Colab)\n",
    "from google.colab import drive\n",
    "drive.mount('/content/drive', force_remount=True)\n",
    "\n",
    "!pip install pytesseract opencv-python\n",
    "\n",
    "import os\n",
    "import cv2\n",
    "import numpy as np\n",
    "import pytesseract\n",
    "import matplotlib.pyplot as plt\n",
    "import seaborn as sn\n",
    "\n",
    "# Set the number of categories (matrix size)\n",
    "categories = 6  # Change this to match your confusion matrix size\n",
    "\n",
    "# Path to the folder containing confusion matrix images\n",
    "image_folder = '/content/drive/My Drive/confusion_matrices'  # Update as needed\n",
    "\n",
    "# Function to extract matrix from image using OCR\n",
    "def extract_matrix_from_image(image_path, categories):\n",
    "    img = cv2.imread(image_path)\n",
    "    gray = cv2.cvtColor(img, cv2.COLOR_BGR2GRAY)\n",
    "    # Optional: thresholding to improve OCR\n",
    "    _, thresh = cv2.threshold(gray, 180, 255, cv2.THRESH_BINARY_INV)\n",
    "    # OCR\n",
    "    text = pytesseract.image_to_string(thresh, config='--psm 6 digits')\n",
    "    # Parse numbers from text\n",
    "    numbers = [int(s) for s in text.split() if s.isdigit()]\n",
    "    if len(numbers) != categories * categories:\n",
    "        print(f\"Warning: {image_path} does not have expected number of values ({len(numbers)} found)\")\n",
    "        # Pad or truncate as needed\n",
    "        numbers = (numbers + [0] * (categories * categories))[:categories * categories]\n",
    "    matrix = np.array(numbers).reshape((categories, categories))\n",
    "    return matrix\n",
    "\n",
    "# Read all images and extract matrices\n",
    "matrices = []\n",
    "for filename in os.listdir(image_folder):\n",
    "    if filename.lower().endswith(('.png', '.jpg', '.jpeg', '.bmp')):\n",
    "        path = os.path.join(image_folder, filename)\n",
    "        matrix = extract_matrix_from_image(path, categories)\n",
    "        matrices.append(matrix)\n",
    "\n",
    "# Sum all matrices\n",
    "if matrices:\n",
    "    sum_matrix = np.sum(matrices, axis=0)\n",
    "else:\n",
    "    sum_matrix = np.zeros((categories, categories), dtype=int)\n",
    "\n",
    "# Display summed confusion matrix\n",
    "plt.figure(figsize=(8,8))\n",
    "sn.heatmap(sum_matrix, annot=True, fmt=\"d\", cmap=\"Reds\", cbar=False)\n",
    "plt.xlabel('Predicted')\n",
    "plt.ylabel('True')\n",
    "plt.title('Summed Confusion Matrix')\n",
    "plt.show()"
   ]
  }
 ],
 "metadata": {
  "kernelspec": {
   "display_name": "Python 3",
   "language": "python",
   "name": "python3"
  },
  "language_info": {
   "codemirror_mode": {
    "name": "ipython",
    "version": 3
   },
   "file_extension": ".py",
   "mimetype": "text/x-python",
   "name": "python",
   "nbconvert_exporter": "python",
   "pygments_lexer": "ipython3",
   "version": "3.10.6"
  }
 },
 "nbformat": 4,
 "nbformat_minor": 5
}
